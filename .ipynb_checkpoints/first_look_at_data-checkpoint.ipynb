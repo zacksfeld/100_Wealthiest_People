{
 "cells": [
  {
   "cell_type": "code",
   "execution_count": 1,
   "id": "94840af2-ac8c-437c-9e77-6b046151ea9e",
   "metadata": {},
   "outputs": [],
   "source": [
    "import pandas as pd\n",
    "import numpy as np\n",
    "import json\n",
    "\n",
    "%matplotlib inline\n",
    "import matplotlib.pyplot as plt"
   ]
  },
  {
   "cell_type": "code",
   "execution_count": 2,
   "id": "a97972df-f408-44cc-90b9-0ba96fec4497",
   "metadata": {},
   "outputs": [],
   "source": [
    "top_richest = pd.read_csv('top_100_richest.csv', index_col='rank')\n",
    "country_stats = pd.read_csv('wiki_number_of_billionaires.csv')\n",
    "ages = top_richest[['name', 'age']]\n",
    "gdps = pd.read_csv('gdp_csv.csv')"
   ]
  },
  {
   "cell_type": "code",
   "execution_count": 3,
   "id": "72b234e2-b4e8-4aee-ae04-ff353ecef4bb",
   "metadata": {},
   "outputs": [
    {
     "data": {
      "text/html": [
       "<div>\n",
       "<style scoped>\n",
       "    .dataframe tbody tr th:only-of-type {\n",
       "        vertical-align: middle;\n",
       "    }\n",
       "\n",
       "    .dataframe tbody tr th {\n",
       "        vertical-align: top;\n",
       "    }\n",
       "\n",
       "    .dataframe thead th {\n",
       "        text-align: right;\n",
       "    }\n",
       "</style>\n",
       "<table border=\"1\" class=\"dataframe\">\n",
       "  <thead>\n",
       "    <tr style=\"text-align: right;\">\n",
       "      <th></th>\n",
       "      <th>name</th>\n",
       "      <th>net_worth</th>\n",
       "      <th>bday</th>\n",
       "      <th>age</th>\n",
       "      <th>nationality</th>\n",
       "    </tr>\n",
       "    <tr>\n",
       "      <th>rank</th>\n",
       "      <th></th>\n",
       "      <th></th>\n",
       "      <th></th>\n",
       "      <th></th>\n",
       "      <th></th>\n",
       "    </tr>\n",
       "  </thead>\n",
       "  <tbody>\n",
       "    <tr>\n",
       "      <th>1</th>\n",
       "      <td>Elon Musk</td>\n",
       "      <td>$240 Billion</td>\n",
       "      <td>28-Jun-71</td>\n",
       "      <td>51.0</td>\n",
       "      <td>South Africa</td>\n",
       "    </tr>\n",
       "    <tr>\n",
       "      <th>2</th>\n",
       "      <td>Jeff Bezos</td>\n",
       "      <td>$150 Billion</td>\n",
       "      <td>12-Jan-64</td>\n",
       "      <td>58.0</td>\n",
       "      <td>United States of America</td>\n",
       "    </tr>\n",
       "    <tr>\n",
       "      <th>3</th>\n",
       "      <td>Gautam Adani</td>\n",
       "      <td>$138 Billion</td>\n",
       "      <td>24-Jun-62</td>\n",
       "      <td>60.0</td>\n",
       "      <td>India</td>\n",
       "    </tr>\n",
       "    <tr>\n",
       "      <th>4</th>\n",
       "      <td>Bernard Arnault</td>\n",
       "      <td>$135 Billion</td>\n",
       "      <td>5-Mar-49</td>\n",
       "      <td>73.0</td>\n",
       "      <td>France</td>\n",
       "    </tr>\n",
       "    <tr>\n",
       "      <th>5</th>\n",
       "      <td>Bill Gates</td>\n",
       "      <td>$118 Billion</td>\n",
       "      <td>28-Oct-55</td>\n",
       "      <td>66.0</td>\n",
       "      <td>United States of America</td>\n",
       "    </tr>\n",
       "  </tbody>\n",
       "</table>\n",
       "</div>"
      ],
      "text/plain": [
       "                 name     net_worth       bday   age               nationality\n",
       "rank                                                                          \n",
       "1           Elon Musk  $240 Billion  28-Jun-71  51.0              South Africa\n",
       "2          Jeff Bezos  $150 Billion  12-Jan-64  58.0  United States of America\n",
       "3        Gautam Adani  $138 Billion  24-Jun-62  60.0                     India\n",
       "4     Bernard Arnault  $135 Billion   5-Mar-49  73.0                    France\n",
       "5          Bill Gates  $118 Billion  28-Oct-55  66.0  United States of America"
      ]
     },
     "execution_count": 3,
     "metadata": {},
     "output_type": "execute_result"
    }
   ],
   "source": [
    "top_richest.head()"
   ]
  },
  {
   "cell_type": "code",
   "execution_count": 4,
   "id": "079efa6e-9ca7-46e5-aec1-11dc237ee590",
   "metadata": {},
   "outputs": [
    {
     "data": {
      "text/html": [
       "<div>\n",
       "<style scoped>\n",
       "    .dataframe tbody tr th:only-of-type {\n",
       "        vertical-align: middle;\n",
       "    }\n",
       "\n",
       "    .dataframe tbody tr th {\n",
       "        vertical-align: top;\n",
       "    }\n",
       "\n",
       "    .dataframe thead th {\n",
       "        text-align: right;\n",
       "    }\n",
       "</style>\n",
       "<table border=\"1\" class=\"dataframe\">\n",
       "  <thead>\n",
       "    <tr style=\"text-align: right;\">\n",
       "      <th></th>\n",
       "      <th>country</th>\n",
       "      <th>num_billionares</th>\n",
       "      <th>billionaire_per_million</th>\n",
       "    </tr>\n",
       "  </thead>\n",
       "  <tbody>\n",
       "    <tr>\n",
       "      <th>0</th>\n",
       "      <td>World</td>\n",
       "      <td>2,668</td>\n",
       "      <td>0.350</td>\n",
       "    </tr>\n",
       "    <tr>\n",
       "      <th>1</th>\n",
       "      <td>United States</td>\n",
       "      <td>735</td>\n",
       "      <td>1.853</td>\n",
       "    </tr>\n",
       "    <tr>\n",
       "      <th>2</th>\n",
       "      <td>Mainland China</td>\n",
       "      <td>539</td>\n",
       "      <td>0.276</td>\n",
       "    </tr>\n",
       "    <tr>\n",
       "      <th>3</th>\n",
       "      <td>India</td>\n",
       "      <td>166</td>\n",
       "      <td>0.101</td>\n",
       "    </tr>\n",
       "    <tr>\n",
       "      <th>4</th>\n",
       "      <td>Germany</td>\n",
       "      <td>134</td>\n",
       "      <td>1.553</td>\n",
       "    </tr>\n",
       "  </tbody>\n",
       "</table>\n",
       "</div>"
      ],
      "text/plain": [
       "          country num_billionares  billionaire_per_million\n",
       "0           World           2,668                    0.350\n",
       "1   United States             735                    1.853\n",
       "2  Mainland China             539                    0.276\n",
       "3           India             166                    0.101\n",
       "4         Germany             134                    1.553"
      ]
     },
     "execution_count": 4,
     "metadata": {},
     "output_type": "execute_result"
    }
   ],
   "source": [
    "country_stats.head()"
   ]
  },
  {
   "cell_type": "code",
   "execution_count": 5,
   "id": "0f79770f-1161-47f9-8e73-f4198122cbc9",
   "metadata": {},
   "outputs": [
    {
     "data": {
      "text/plain": [
       "(36.0, 97.0)"
      ]
     },
     "execution_count": 5,
     "metadata": {},
     "output_type": "execute_result"
    }
   ],
   "source": [
    "age_counts = ages.value_counts('age').to_dict()\n",
    "l = ages['age'].tolist()\n",
    "min(l), max(l)"
   ]
  },
  {
   "cell_type": "code",
   "execution_count": 6,
   "id": "26a46c9e-2823-479d-8546-af0feab41b69",
   "metadata": {},
   "outputs": [],
   "source": [
    "ages = top_richest[['name', 'age']].iloc[:5]"
   ]
  },
  {
   "cell_type": "code",
   "execution_count": 7,
   "id": "0224bdc7-09f2-402c-9a97-db6d2f546c8c",
   "metadata": {},
   "outputs": [
    {
     "data": {
      "text/html": [
       "<div>\n",
       "<style scoped>\n",
       "    .dataframe tbody tr th:only-of-type {\n",
       "        vertical-align: middle;\n",
       "    }\n",
       "\n",
       "    .dataframe tbody tr th {\n",
       "        vertical-align: top;\n",
       "    }\n",
       "\n",
       "    .dataframe thead th {\n",
       "        text-align: right;\n",
       "    }\n",
       "</style>\n",
       "<table border=\"1\" class=\"dataframe\">\n",
       "  <thead>\n",
       "    <tr style=\"text-align: right;\">\n",
       "      <th></th>\n",
       "      <th>name</th>\n",
       "      <th>age</th>\n",
       "    </tr>\n",
       "    <tr>\n",
       "      <th>rank</th>\n",
       "      <th></th>\n",
       "      <th></th>\n",
       "    </tr>\n",
       "  </thead>\n",
       "  <tbody>\n",
       "    <tr>\n",
       "      <th>1</th>\n",
       "      <td>Elon Musk</td>\n",
       "      <td>51.0</td>\n",
       "    </tr>\n",
       "    <tr>\n",
       "      <th>2</th>\n",
       "      <td>Jeff Bezos</td>\n",
       "      <td>58.0</td>\n",
       "    </tr>\n",
       "    <tr>\n",
       "      <th>3</th>\n",
       "      <td>Gautam Adani</td>\n",
       "      <td>60.0</td>\n",
       "    </tr>\n",
       "    <tr>\n",
       "      <th>4</th>\n",
       "      <td>Bernard Arnault</td>\n",
       "      <td>73.0</td>\n",
       "    </tr>\n",
       "    <tr>\n",
       "      <th>5</th>\n",
       "      <td>Bill Gates</td>\n",
       "      <td>66.0</td>\n",
       "    </tr>\n",
       "  </tbody>\n",
       "</table>\n",
       "</div>"
      ],
      "text/plain": [
       "                 name   age\n",
       "rank                       \n",
       "1           Elon Musk  51.0\n",
       "2          Jeff Bezos  58.0\n",
       "3        Gautam Adani  60.0\n",
       "4     Bernard Arnault  73.0\n",
       "5          Bill Gates  66.0"
      ]
     },
     "execution_count": 7,
     "metadata": {},
     "output_type": "execute_result"
    }
   ],
   "source": [
    "ages"
   ]
  },
  {
   "cell_type": "code",
   "execution_count": 8,
   "id": "451aed82-6e75-48a9-873c-aaccbd3c838d",
   "metadata": {},
   "outputs": [
    {
     "data": {
      "text/plain": [
       "<BarContainer object of 5 artists>"
      ]
     },
     "execution_count": 8,
     "metadata": {},
     "output_type": "execute_result"
    },
    {
     "data": {
      "image/png": "[encoded data removed]",
      "text/plain": [
       "<Figure size 432x288 with 1 Axes>"
      ]
     },
     "metadata": {
      "needs_background": "light"
     },
     "output_type": "display_data"
    }
   ],
   "source": [
    "plt.bar(ages['name'], height=ages['age'])"
   ]
  },
  {
   "cell_type": "code",
   "execution_count": 9,
   "id": "397ed498-7ab7-4a43-aef6-3879ecc5d93f",
   "metadata": {},
   "outputs": [],
   "source": [
    "def make_range(beg_num, num_ranges):\n",
    "    bg = beg_num\n",
    "    nr = num_ranges\n",
    "    groupings = []\n",
    "    for x in range(nr):\n",
    "        grp = range(bg, bg+9)\n",
    "        bg += 10\n",
    "        groupings.append(list(grp))\n",
    "    return groupings"
   ]
  },
  {
   "cell_type": "code",
   "execution_count": 10,
   "id": "09530d97-1a5b-4ada-ba4b-061449d0f4cc",
   "metadata": {},
   "outputs": [],
   "source": [
    "def age_groups_counts(df, col_name, age_ranges):\n",
    "    df_col = df[col_name].tolist()\n",
    "    age_group_counts = []\n",
    "    for x in age_ranges:\n",
    "        lowest = min(x)\n",
    "        highest = max(x)\n",
    "        r = range(lowest, highest)\n",
    "        age_group = 0\n",
    "        for y in df_col:\n",
    "            if y in r:\n",
    "                age_group += 1\n",
    "                df_col.remove(y)\n",
    "                next\n",
    "            else:\n",
    "                next\n",
    "        age_group_counts.append(age_group)\n",
    "        next\n",
    "    return age_group_counts"
   ]
  },
  {
   "cell_type": "code",
   "execution_count": 11,
   "id": "60ed7ff2-9ee0-4f8f-87bb-d47ffb7263fd",
   "metadata": {},
   "outputs": [],
   "source": [
    "richest_age_ranges = make_range(30, 7)"
   ]
  },
  {
   "cell_type": "code",
   "execution_count": 12,
   "id": "02acf807-4e6b-4afe-b302-067be70621bc",
   "metadata": {},
   "outputs": [
    {
     "data": {
      "text/plain": [
       "{'30s': 2, '40s': 2, '50s': 14, '60s': 16, '70s': 16, '80s': 9, '90s': 6}"
      ]
     },
     "execution_count": 12,
     "metadata": {},
     "output_type": "execute_result"
    }
   ],
   "source": [
    "richest_age_group_counts = age_groups_counts(top_richest, 'age', richest_age_ranges)\n",
    "\n",
    "graph_groupings_names = {'30s':0, '40s':0, '50s':0, '60s':0, '70s':0, '80s':0, '90s':0}\n",
    "for i, x in enumerate(graph_groupings_names):\n",
    "    graph_groupings_names[x] = richest_age_group_counts[i]\n",
    "    \n",
    "graph_groupings_names"
   ]
  },
  {
   "cell_type": "code",
   "execution_count": 13,
   "id": "e1e52052-8fa8-4a93-8978-4013820bf15f",
   "metadata": {},
   "outputs": [
    {
     "data": {
      "text/html": [
       "<div>\n",
       "<style scoped>\n",
       "    .dataframe tbody tr th:only-of-type {\n",
       "        vertical-align: middle;\n",
       "    }\n",
       "\n",
       "    .dataframe tbody tr th {\n",
       "        vertical-align: top;\n",
       "    }\n",
       "\n",
       "    .dataframe thead th {\n",
       "        text-align: right;\n",
       "    }\n",
       "</style>\n",
       "<table border=\"1\" class=\"dataframe\">\n",
       "  <thead>\n",
       "    <tr style=\"text-align: right;\">\n",
       "      <th></th>\n",
       "      <th>age_range</th>\n",
       "      <th>count</th>\n",
       "    </tr>\n",
       "  </thead>\n",
       "  <tbody>\n",
       "    <tr>\n",
       "      <th>0</th>\n",
       "      <td>30s</td>\n",
       "      <td>2</td>\n",
       "    </tr>\n",
       "    <tr>\n",
       "      <th>1</th>\n",
       "      <td>40s</td>\n",
       "      <td>2</td>\n",
       "    </tr>\n",
       "    <tr>\n",
       "      <th>2</th>\n",
       "      <td>50s</td>\n",
       "      <td>14</td>\n",
       "    </tr>\n",
       "    <tr>\n",
       "      <th>3</th>\n",
       "      <td>60s</td>\n",
       "      <td>16</td>\n",
       "    </tr>\n",
       "    <tr>\n",
       "      <th>4</th>\n",
       "      <td>70s</td>\n",
       "      <td>16</td>\n",
       "    </tr>\n",
       "    <tr>\n",
       "      <th>5</th>\n",
       "      <td>80s</td>\n",
       "      <td>9</td>\n",
       "    </tr>\n",
       "    <tr>\n",
       "      <th>6</th>\n",
       "      <td>90s</td>\n",
       "      <td>6</td>\n",
       "    </tr>\n",
       "  </tbody>\n",
       "</table>\n",
       "</div>"
      ],
      "text/plain": [
       "  age_range  count\n",
       "0       30s      2\n",
       "1       40s      2\n",
       "2       50s     14\n",
       "3       60s     16\n",
       "4       70s     16\n",
       "5       80s      9\n",
       "6       90s      6"
      ]
     },
     "execution_count": 13,
     "metadata": {},
     "output_type": "execute_result"
    }
   ],
   "source": [
    "grp_ages = pd.DataFrame(graph_groupings_names.values(), graph_groupings_names.keys())\n",
    "grp_ages = grp_ages.reset_index()\n",
    "grp_ages.columns = ['age_range', 'count']\n",
    "grp_ages"
   ]
  },
  {
   "cell_type": "code",
   "execution_count": 14,
   "id": "3bf1c183-886d-49e1-841b-701d5205a487",
   "metadata": {},
   "outputs": [
    {
     "data": {
      "text/plain": [
       "([<matplotlib.patches.Wedge at 0x27609194e20>,\n",
       "  <matplotlib.patches.Wedge at 0x27609195300>,\n",
       "  <matplotlib.patches.Wedge at 0x276091957e0>,\n",
       "  <matplotlib.patches.Wedge at 0x27609195c30>,\n",
       "  <matplotlib.patches.Wedge at 0x27609196110>,\n",
       "  <matplotlib.patches.Wedge at 0x276091965f0>,\n",
       "  <matplotlib.patches.Wedge at 0x27609196ad0>],\n",
       " [Text(0.74649872603172, 0.07238544075309042, '30s'),\n",
       "  Text(0.7186843717739541, 0.21445925899311719, '40s'),\n",
       "  Text(0.3644875554472169, 0.6554760269636961, '50s'),\n",
       "  Text(-0.6067627519723585, 0.44083893069797064, '60s'),\n",
       "  Text(-0.4553718716363494, -0.5959332668364874, '70s'),\n",
       "  Text(0.3957302067100555, -0.6371009366632705, '80s'),\n",
       "  Text(0.718684385578351, -0.21445921273255675, '90s')])"
      ]
     },
     "execution_count": 14,
     "metadata": {},
     "output_type": "execute_result"
    },
    {
     "data": {
      "image/png": "[encoded data removed]",
      "text/plain": [
       "<Figure size 432x288 with 1 Axes>"
      ]
     },
     "metadata": {},
     "output_type": "display_data"
    }
   ],
   "source": [
    "plt.pie(grp_ages['count'], labels=grp_ages['age_range'], labeldistance=.75)"
   ]
  },
  {
   "cell_type": "code",
   "execution_count": null,
   "id": "8216871b-8cd4-4bc6-b07e-288532a3af3d",
   "metadata": {},
   "outputs": [],
   "source": []
  }
 ],
 "metadata": {
  "kernelspec": {
   "display_name": "Python 3 (ipykernel)",
   "language": "python",
   "name": "python3"
  },
  "language_info": {
   "codemirror_mode": {
    "name": "ipython",
    "version": 3
   },
   "file_extension": ".py",
   "mimetype": "text/x-python",
   "name": "python",
   "nbconvert_exporter": "python",
   "pygments_lexer": "ipython3",
   "version": "3.10.5"
  }
 },
 "nbformat": 4,
 "nbformat_minor": 5
}
