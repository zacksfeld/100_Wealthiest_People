{
 "cells": [
  {
   "cell_type": "code",
   "execution_count": 28,
   "id": "ddd8172c-e1e3-4b85-be1c-2c0627e1c60d",
   "metadata": {},
   "outputs": [],
   "source": [
    "import seaborn as sns\n",
    "import numpy as np\n",
    "import pandas as pd"
   ]
  },
  {
   "cell_type": "code",
   "execution_count": 29,
   "id": "3d745526-77ae-46ed-b5cc-15d13b0aaa34",
   "metadata": {},
   "outputs": [],
   "source": [
    "# same thing as the other file but using seaborn instead of matplotlib\n",
    "\n",
    "top_richest = pd.read_csv('top_100_richest.csv', index_col='rank')\n",
    "countries_stats = pd.read_csv('wiki_number_of_billionaires.csv')\n",
    "ages = top_richest[['name', 'age']]"
   ]
  },
  {
   "cell_type": "code",
   "execution_count": 30,
   "id": "b9eb29db-f57f-4dab-8ff5-4cac59ff7be1",
   "metadata": {},
   "outputs": [
    {
     "data": {
      "text/plain": [
       "<AxesSubplot:xlabel='name', ylabel='age'>"
      ]
     },
     "execution_count": 30,
     "metadata": {},
     "output_type": "execute_result"
    },
    {
     "data": {
      "image/png": "[encoded data removed]",
      "text/plain": [
       "<Figure size 432x288 with 1 Axes>"
      ]
     },
     "metadata": {
      "needs_background": "light"
     },
     "output_type": "display_data"
    }
   ],
   "source": [
    "# made a simple bar graph of the top 5 wealthiest individuals' ages\n",
    "\n",
    "sns.barplot(data=ages.iloc[:4], x='name', y='age')"
   ]
  },
  {
   "cell_type": "code",
   "execution_count": 31,
   "id": "8fadd962-245f-4b51-b0c5-606b2e99b8f8",
   "metadata": {},
   "outputs": [],
   "source": [
    "# finding the range of ages, by turning it into a list and finding the minimum and maximum ages\n",
    "\n",
    "age_counts = ages.value_counts('age').to_dict()\n",
    "l = ages['age'].tolist()\n",
    "min(l), max(l)"
   ]
  },
  {
   "cell_type": "code",
   "execution_count": 32,
   "id": "de925d7e-f0a1-441e-9be8-a368ae72cd5d",
   "metadata": {},
   "outputs": [],
   "source": []
  },
  {
   "cell_type": "code",
   "execution_count": 34,
   "id": "b42fd881-27d6-4e5f-8cc6-eeb8580a1839",
   "metadata": {},
   "outputs": [
    {
     "data": {
      "text/plain": [
       "(36.0, 97.0)"
      ]
     },
     "execution_count": 34,
     "metadata": {},
     "output_type": "execute_result"
    }
   ],
   "source": []
  },
  {
   "cell_type": "code",
   "execution_count": null,
   "id": "baf1c3f5-a364-4a65-9c44-b73eaafb6cf7",
   "metadata": {},
   "outputs": [],
   "source": []
  },
  {
   "cell_type": "code",
   "execution_count": null,
   "id": "e2f0a9b5-064e-4c06-996d-08f02a13adc5",
   "metadata": {},
   "outputs": [],
   "source": []
  }
 ],
 "metadata": {
  "kernelspec": {
   "display_name": "Python 3 (ipykernel)",
   "language": "python",
   "name": "python3"
  },
  "language_info": {
   "codemirror_mode": {
    "name": "ipython",
    "version": 3
   },
   "file_extension": ".py",
   "mimetype": "text/x-python",
   "name": "python",
   "nbconvert_exporter": "python",
   "pygments_lexer": "ipython3",
   "version": "3.10.5"
  }
 },
 "nbformat": 4,
 "nbformat_minor": 5
}
