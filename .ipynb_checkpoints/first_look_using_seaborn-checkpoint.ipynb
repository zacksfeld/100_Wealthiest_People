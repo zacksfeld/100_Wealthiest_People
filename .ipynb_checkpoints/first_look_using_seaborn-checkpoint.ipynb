{
 "cells": [
  {
   "cell_type": "code",
   "execution_count": 1,
   "id": "ddd8172c-e1e3-4b85-be1c-2c0627e1c60d",
   "metadata": {},
   "outputs": [],
   "source": [
    "import seaborn as sns\n",
    "import numpy as np\n",
    "import pandas as pd"
   ]
  },
  {
   "cell_type": "code",
   "execution_count": 2,
   "id": "3d745526-77ae-46ed-b5cc-15d13b0aaa34",
   "metadata": {},
   "outputs": [],
   "source": [
    "# same thing as the other file but using seaborn instead of matplotlib\n",
    "\n",
    "top_richest = pd.read_csv('top_100_richest.csv', index_col='rank')\n",
    "country_stats = pd.read_csv('wiki_number_of_billionaires.csv')\n",
    "gdps = pd.read_csv('gdp_csv.csv')\n",
    "ages = top_richest[['name', 'age']]"
   ]
  },
  {
   "cell_type": "code",
   "execution_count": 3,
   "id": "7d53c50f-4284-4022-a82b-dc2ff1d4e522",
   "metadata": {},
   "outputs": [
    {
     "data": {
      "text/html": [
       "<div>\n",
       "<style scoped>\n",
       "    .dataframe tbody tr th:only-of-type {\n",
       "        vertical-align: middle;\n",
       "    }\n",
       "\n",
       "    .dataframe tbody tr th {\n",
       "        vertical-align: top;\n",
       "    }\n",
       "\n",
       "    .dataframe thead th {\n",
       "        text-align: right;\n",
       "    }\n",
       "</style>\n",
       "<table border=\"1\" class=\"dataframe\">\n",
       "  <thead>\n",
       "    <tr style=\"text-align: right;\">\n",
       "      <th></th>\n",
       "      <th>name</th>\n",
       "      <th>net_worth</th>\n",
       "      <th>bday</th>\n",
       "      <th>age</th>\n",
       "      <th>nationality</th>\n",
       "    </tr>\n",
       "    <tr>\n",
       "      <th>rank</th>\n",
       "      <th></th>\n",
       "      <th></th>\n",
       "      <th></th>\n",
       "      <th></th>\n",
       "      <th></th>\n",
       "    </tr>\n",
       "  </thead>\n",
       "  <tbody>\n",
       "    <tr>\n",
       "      <th>1</th>\n",
       "      <td>Elon Musk</td>\n",
       "      <td>$240 Billion</td>\n",
       "      <td>28-Jun-71</td>\n",
       "      <td>51.0</td>\n",
       "      <td>South Africa</td>\n",
       "    </tr>\n",
       "    <tr>\n",
       "      <th>2</th>\n",
       "      <td>Jeff Bezos</td>\n",
       "      <td>$150 Billion</td>\n",
       "      <td>12-Jan-64</td>\n",
       "      <td>58.0</td>\n",
       "      <td>United States of America</td>\n",
       "    </tr>\n",
       "    <tr>\n",
       "      <th>3</th>\n",
       "      <td>Gautam Adani</td>\n",
       "      <td>$138 Billion</td>\n",
       "      <td>24-Jun-62</td>\n",
       "      <td>60.0</td>\n",
       "      <td>India</td>\n",
       "    </tr>\n",
       "    <tr>\n",
       "      <th>4</th>\n",
       "      <td>Bernard Arnault</td>\n",
       "      <td>$135 Billion</td>\n",
       "      <td>5-Mar-49</td>\n",
       "      <td>73.0</td>\n",
       "      <td>France</td>\n",
       "    </tr>\n",
       "    <tr>\n",
       "      <th>5</th>\n",
       "      <td>Bill Gates</td>\n",
       "      <td>$118 Billion</td>\n",
       "      <td>28-Oct-55</td>\n",
       "      <td>66.0</td>\n",
       "      <td>United States of America</td>\n",
       "    </tr>\n",
       "  </tbody>\n",
       "</table>\n",
       "</div>"
      ],
      "text/plain": [
       "                 name     net_worth       bday   age               nationality\n",
       "rank                                                                          \n",
       "1           Elon Musk  $240 Billion  28-Jun-71  51.0              South Africa\n",
       "2          Jeff Bezos  $150 Billion  12-Jan-64  58.0  United States of America\n",
       "3        Gautam Adani  $138 Billion  24-Jun-62  60.0                     India\n",
       "4     Bernard Arnault  $135 Billion   5-Mar-49  73.0                    France\n",
       "5          Bill Gates  $118 Billion  28-Oct-55  66.0  United States of America"
      ]
     },
     "execution_count": 3,
     "metadata": {},
     "output_type": "execute_result"
    }
   ],
   "source": [
    "# taking a look at the datasets that one is working with\n",
    "\n",
    "top_richest.head()"
   ]
  },
  {
   "cell_type": "code",
   "execution_count": 4,
   "id": "523c7d4b-5e93-459d-a75b-db1c6362c064",
   "metadata": {},
   "outputs": [
    {
     "data": {
      "text/html": [
       "<div>\n",
       "<style scoped>\n",
       "    .dataframe tbody tr th:only-of-type {\n",
       "        vertical-align: middle;\n",
       "    }\n",
       "\n",
       "    .dataframe tbody tr th {\n",
       "        vertical-align: top;\n",
       "    }\n",
       "\n",
       "    .dataframe thead th {\n",
       "        text-align: right;\n",
       "    }\n",
       "</style>\n",
       "<table border=\"1\" class=\"dataframe\">\n",
       "  <thead>\n",
       "    <tr style=\"text-align: right;\">\n",
       "      <th></th>\n",
       "      <th>country</th>\n",
       "      <th>num_billionares</th>\n",
       "      <th>billionaire_per_million</th>\n",
       "    </tr>\n",
       "  </thead>\n",
       "  <tbody>\n",
       "    <tr>\n",
       "      <th>0</th>\n",
       "      <td>World</td>\n",
       "      <td>2,668</td>\n",
       "      <td>0.350</td>\n",
       "    </tr>\n",
       "    <tr>\n",
       "      <th>1</th>\n",
       "      <td>United States</td>\n",
       "      <td>735</td>\n",
       "      <td>1.853</td>\n",
       "    </tr>\n",
       "    <tr>\n",
       "      <th>2</th>\n",
       "      <td>Mainland China</td>\n",
       "      <td>539</td>\n",
       "      <td>0.276</td>\n",
       "    </tr>\n",
       "    <tr>\n",
       "      <th>3</th>\n",
       "      <td>India</td>\n",
       "      <td>166</td>\n",
       "      <td>0.101</td>\n",
       "    </tr>\n",
       "    <tr>\n",
       "      <th>4</th>\n",
       "      <td>Germany</td>\n",
       "      <td>134</td>\n",
       "      <td>1.553</td>\n",
       "    </tr>\n",
       "  </tbody>\n",
       "</table>\n",
       "</div>"
      ],
      "text/plain": [
       "          country num_billionares  billionaire_per_million\n",
       "0           World           2,668                    0.350\n",
       "1   United States             735                    1.853\n",
       "2  Mainland China             539                    0.276\n",
       "3           India             166                    0.101\n",
       "4         Germany             134                    1.553"
      ]
     },
     "execution_count": 4,
     "metadata": {},
     "output_type": "execute_result"
    }
   ],
   "source": [
    "country_stats.head()"
   ]
  },
  {
   "cell_type": "code",
   "execution_count": 5,
   "id": "4eac615c-a917-48b9-8ced-09d145f66675",
   "metadata": {},
   "outputs": [
    {
     "data": {
      "text/html": [
       "<div>\n",
       "<style scoped>\n",
       "    .dataframe tbody tr th:only-of-type {\n",
       "        vertical-align: middle;\n",
       "    }\n",
       "\n",
       "    .dataframe tbody tr th {\n",
       "        vertical-align: top;\n",
       "    }\n",
       "\n",
       "    .dataframe thead th {\n",
       "        text-align: right;\n",
       "    }\n",
       "</style>\n",
       "<table border=\"1\" class=\"dataframe\">\n",
       "  <thead>\n",
       "    <tr style=\"text-align: right;\">\n",
       "      <th></th>\n",
       "      <th>Country Name</th>\n",
       "      <th>Country Code</th>\n",
       "      <th>Year</th>\n",
       "      <th>Value</th>\n",
       "    </tr>\n",
       "  </thead>\n",
       "  <tbody>\n",
       "    <tr>\n",
       "      <th>0</th>\n",
       "      <td>Arab World</td>\n",
       "      <td>ARB</td>\n",
       "      <td>1968</td>\n",
       "      <td>2.576068e+10</td>\n",
       "    </tr>\n",
       "    <tr>\n",
       "      <th>1</th>\n",
       "      <td>Arab World</td>\n",
       "      <td>ARB</td>\n",
       "      <td>1969</td>\n",
       "      <td>2.843420e+10</td>\n",
       "    </tr>\n",
       "    <tr>\n",
       "      <th>2</th>\n",
       "      <td>Arab World</td>\n",
       "      <td>ARB</td>\n",
       "      <td>1970</td>\n",
       "      <td>3.138550e+10</td>\n",
       "    </tr>\n",
       "    <tr>\n",
       "      <th>3</th>\n",
       "      <td>Arab World</td>\n",
       "      <td>ARB</td>\n",
       "      <td>1971</td>\n",
       "      <td>3.642691e+10</td>\n",
       "    </tr>\n",
       "    <tr>\n",
       "      <th>4</th>\n",
       "      <td>Arab World</td>\n",
       "      <td>ARB</td>\n",
       "      <td>1972</td>\n",
       "      <td>4.331606e+10</td>\n",
       "    </tr>\n",
       "  </tbody>\n",
       "</table>\n",
       "</div>"
      ],
      "text/plain": [
       "  Country Name Country Code  Year         Value\n",
       "0   Arab World          ARB  1968  2.576068e+10\n",
       "1   Arab World          ARB  1969  2.843420e+10\n",
       "2   Arab World          ARB  1970  3.138550e+10\n",
       "3   Arab World          ARB  1971  3.642691e+10\n",
       "4   Arab World          ARB  1972  4.331606e+10"
      ]
     },
     "execution_count": 5,
     "metadata": {},
     "output_type": "execute_result"
    }
   ],
   "source": [
    "gdps.head()"
   ]
  },
  {
   "cell_type": "code",
   "execution_count": 6,
   "id": "b9eb29db-f57f-4dab-8ff5-4cac59ff7be1",
   "metadata": {},
   "outputs": [
    {
     "data": {
      "text/plain": [
       "<AxesSubplot:xlabel='name', ylabel='age'>"
      ]
     },
     "execution_count": 6,
     "metadata": {},
     "output_type": "execute_result"
    },
    {
     "data": {
      "image/png": "[encoded data removed]",
      "text/plain": [
       "<Figure size 432x288 with 1 Axes>"
      ]
     },
     "metadata": {
      "needs_background": "light"
     },
     "output_type": "display_data"
    }
   ],
   "source": [
    "# bar graph of the top 5 wealthies from the dataset comparing their ages\n",
    "\n",
    "sns.barplot(data=ages.iloc[:4], x='name', y='age')"
   ]
  },
  {
   "cell_type": "code",
   "execution_count": 7,
   "id": "268c44f5-ab64-4d5a-bf87-bba6229c633a",
   "metadata": {},
   "outputs": [
    {
     "data": {
      "text/plain": [
       "<AxesSubplot:xlabel='name', ylabel='age'>"
      ]
     },
     "execution_count": 7,
     "metadata": {},
     "output_type": "execute_result"
    },
    {
     "data": {
      "image/png": "[encoded data removed]",
      "text/plain": [
       "<Figure size 432x288 with 1 Axes>"
      ]
     },
     "metadata": {
      "needs_background": "light"
     },
     "output_type": "display_data"
    }
   ],
   "source": [
    "# bar graph of the 4 lowest on the list comparing their ages\n",
    "\n",
    "sns.barplot(data=ages.iloc[-4:], x='name', y='age')"
   ]
  },
  {
   "cell_type": "code",
   "execution_count": 8,
   "id": "dfefbf34-a259-4728-b412-2760cbaf71bd",
   "metadata": {},
   "outputs": [
    {
     "data": {
      "text/plain": [
       "str"
      ]
     },
     "execution_count": 8,
     "metadata": {},
     "output_type": "execute_result"
    }
   ],
   "source": [
    "# as one can see, the type of variable the 'num_billionares' is stored as is a string.\n",
    "# we will change this so that we can make more meaningful comparisons with the data\n",
    "\n",
    "type(country_stats['num_billionares'].iloc[0])"
   ]
  },
  {
   "cell_type": "code",
   "execution_count": 9,
   "id": "2352edcc-14b6-4fc9-99d6-1f3cc50e8d6f",
   "metadata": {},
   "outputs": [
    {
     "data": {
      "text/plain": [
       "(numpy.int32, 2668)"
      ]
     },
     "execution_count": 9,
     "metadata": {},
     "output_type": "execute_result"
    }
   ],
   "source": [
    "# converted all of the values in the 'num_billionares column into integers and updated\n",
    "# the original dataframe\n",
    "\n",
    "num_bill_old = country_stats['num_billionares']\n",
    "num_bill_new = np.array([x.replace(',', '') for x in num_bill_old])\n",
    "num_bill_new = num_bill_new.astype(int)\n",
    "country_stats['num_billionares'] = num_bill_new\n",
    "type(country_stats['num_billionares'].iloc[0]), country_stats['num_billionares'].iloc[0]"
   ]
  },
  {
   "cell_type": "code",
   "execution_count": 10,
   "id": "71ea3ade-00c6-497e-9362-c2fb926f70ec",
   "metadata": {},
   "outputs": [
    {
     "data": {
      "text/plain": [
       "<AxesSubplot:xlabel='country', ylabel='num_billionares'>"
      ]
     },
     "execution_count": 10,
     "metadata": {},
     "output_type": "execute_result"
    },
    {
     "data": {
      "image/png": "[encoded data removed]",
      "text/plain": [
       "<Figure size 432x288 with 1 Axes>"
      ]
     },
     "metadata": {
      "needs_background": "light"
     },
     "output_type": "display_data"
    }
   ],
   "source": [
    "# number of billionaires in top countries\n",
    "\n",
    "sns.barplot(data=country_stats.iloc[1:6:], x='country', y='num_billionares')"
   ]
  },
  {
   "cell_type": "code",
   "execution_count": 11,
   "id": "84e8e003-4599-4cd6-9332-11e86dffe7ea",
   "metadata": {},
   "outputs": [
    {
     "data": {
      "text/plain": [
       "<AxesSubplot:xlabel='country', ylabel='billionaire_per_million'>"
      ]
     },
     "execution_count": 11,
     "metadata": {},
     "output_type": "execute_result"
    },
    {
     "data": {
      "image/png": "[encoded data removed]",
      "text/plain": [
       "<Figure size 432x288 with 1 Axes>"
      ]
     },
     "metadata": {
      "needs_background": "light"
     },
     "output_type": "display_data"
    }
   ],
   "source": [
    "sns.barplot(data=country_stats.iloc[1:6], x='country', y='billionaire_per_million')"
   ]
  },
  {
   "cell_type": "code",
   "execution_count": 12,
   "id": "8fadd962-245f-4b51-b0c5-606b2e99b8f8",
   "metadata": {},
   "outputs": [
    {
     "data": {
      "text/plain": [
       "(36.0, 97.0)"
      ]
     },
     "execution_count": 12,
     "metadata": {},
     "output_type": "execute_result"
    }
   ],
   "source": [
    "# finding the range of ages, by turning it into a list and finding the minimum and maximum ages\n",
    "\n",
    "age_counts = ages.value_counts('age').to_dict()\n",
    "l = ages['age'].tolist()\n",
    "min(l), max(l)"
   ]
  },
  {
   "cell_type": "code",
   "execution_count": 13,
   "id": "de925d7e-f0a1-441e-9be8-a368ae72cd5d",
   "metadata": {},
   "outputs": [],
   "source": [
    "# creating a function that will create groupings of age ranges\n",
    "\n",
    "def make_range(beg_num, num_ranges):\n",
    "    bg = beg_num\n",
    "    nr = num_ranges\n",
    "    groupings = []\n",
    "    for x in range(nr):\n",
    "        grp = range(bg, bg+9)\n",
    "        bg += 10\n",
    "        groupings.append(list(grp))\n",
    "    return groupings"
   ]
  },
  {
   "cell_type": "code",
   "execution_count": 14,
   "id": "878e4b18-926b-4795-b0a8-98286c2947c8",
   "metadata": {},
   "outputs": [],
   "source": [
    "richest_age_ranges = make_range(30, 7)"
   ]
  },
  {
   "cell_type": "code",
   "execution_count": 15,
   "id": "b42fd881-27d6-4e5f-8cc6-eeb8580a1839",
   "metadata": {},
   "outputs": [],
   "source": [
    "# creating a function that will record the number of instances of each age range from the dataset\n",
    "\n",
    "def age_groups_counts(df, col_name, age_ranges):\n",
    "    df_col = df[col_name].tolist()\n",
    "    age_group_counts = []\n",
    "    for x in age_ranges:\n",
    "        lowest = min(x)\n",
    "        highest = max(x)\n",
    "        r = range(lowest, highest)\n",
    "        age_group = 0\n",
    "        for y in df_col:\n",
    "            if y in r:\n",
    "                age_group += 1\n",
    "                df_col.remove(y)\n",
    "                next\n",
    "            else:\n",
    "                next\n",
    "        age_group_counts.append(age_group)\n",
    "        next\n",
    "    return age_group_counts"
   ]
  },
  {
   "cell_type": "code",
   "execution_count": 16,
   "id": "baf1c3f5-a364-4a65-9c44-b73eaafb6cf7",
   "metadata": {},
   "outputs": [
    {
     "data": {
      "text/plain": [
       "{'30s': 2, '40s': 2, '50s': 14, '60s': 16, '70s': 16, '80s': 9, '90s': 6}"
      ]
     },
     "execution_count": 16,
     "metadata": {},
     "output_type": "execute_result"
    }
   ],
   "source": [
    "# utilizing functions created above to make a bar graph illustrating the age ranges of the dataset\n",
    "\n",
    "richest_age_group_counts = age_groups_counts(top_richest, 'age', richest_age_ranges)\n",
    "\n",
    "graph_groupings_names = {'30s':0, '40s':0, '50s':0, '60s':0, '70s':0, '80s':0, '90s':0}\n",
    "for i, x in enumerate(graph_groupings_names):\n",
    "    graph_groupings_names[x] = richest_age_group_counts[i]\n",
    "    \n",
    "graph_groupings_names"
   ]
  },
  {
   "cell_type": "code",
   "execution_count": 17,
   "id": "e2f0a9b5-064e-4c06-996d-08f02a13adc5",
   "metadata": {},
   "outputs": [
    {
     "data": {
      "text/html": [
       "<div>\n",
       "<style scoped>\n",
       "    .dataframe tbody tr th:only-of-type {\n",
       "        vertical-align: middle;\n",
       "    }\n",
       "\n",
       "    .dataframe tbody tr th {\n",
       "        vertical-align: top;\n",
       "    }\n",
       "\n",
       "    .dataframe thead th {\n",
       "        text-align: right;\n",
       "    }\n",
       "</style>\n",
       "<table border=\"1\" class=\"dataframe\">\n",
       "  <thead>\n",
       "    <tr style=\"text-align: right;\">\n",
       "      <th></th>\n",
       "      <th>age_range</th>\n",
       "      <th>count</th>\n",
       "    </tr>\n",
       "  </thead>\n",
       "  <tbody>\n",
       "    <tr>\n",
       "      <th>0</th>\n",
       "      <td>30s</td>\n",
       "      <td>2</td>\n",
       "    </tr>\n",
       "    <tr>\n",
       "      <th>1</th>\n",
       "      <td>40s</td>\n",
       "      <td>2</td>\n",
       "    </tr>\n",
       "    <tr>\n",
       "      <th>2</th>\n",
       "      <td>50s</td>\n",
       "      <td>14</td>\n",
       "    </tr>\n",
       "    <tr>\n",
       "      <th>3</th>\n",
       "      <td>60s</td>\n",
       "      <td>16</td>\n",
       "    </tr>\n",
       "    <tr>\n",
       "      <th>4</th>\n",
       "      <td>70s</td>\n",
       "      <td>16</td>\n",
       "    </tr>\n",
       "    <tr>\n",
       "      <th>5</th>\n",
       "      <td>80s</td>\n",
       "      <td>9</td>\n",
       "    </tr>\n",
       "    <tr>\n",
       "      <th>6</th>\n",
       "      <td>90s</td>\n",
       "      <td>6</td>\n",
       "    </tr>\n",
       "  </tbody>\n",
       "</table>\n",
       "</div>"
      ],
      "text/plain": [
       "  age_range  count\n",
       "0       30s      2\n",
       "1       40s      2\n",
       "2       50s     14\n",
       "3       60s     16\n",
       "4       70s     16\n",
       "5       80s      9\n",
       "6       90s      6"
      ]
     },
     "execution_count": 17,
     "metadata": {},
     "output_type": "execute_result"
    }
   ],
   "source": [
    "grp_ages = pd.DataFrame(graph_groupings_names.values(), graph_groupings_names.keys())\n",
    "grp_ages = grp_ages.reset_index()\n",
    "grp_ages.columns = ['age_range', 'count']\n",
    "grp_ages"
   ]
  },
  {
   "cell_type": "code",
   "execution_count": 18,
   "id": "5346cfd0-356b-4546-b08d-b73c2e0d807c",
   "metadata": {},
   "outputs": [
    {
     "data": {
      "text/plain": [
       "<AxesSubplot:xlabel='age_range', ylabel='count'>"
      ]
     },
     "execution_count": 18,
     "metadata": {},
     "output_type": "execute_result"
    },
    {
     "data": {
      "image/png": "[encoded data removed]",
      "text/plain": [
       "<Figure size 432x288 with 1 Axes>"
      ]
     },
     "metadata": {
      "needs_background": "light"
     },
     "output_type": "display_data"
    }
   ],
   "source": [
    "# a bar graph showing the most common ages of the top 100 wealthiest individuals\n",
    "\n",
    "sns.barplot(data=grp_ages, x=grp_ages['age_range'], y=grp_ages['count'])"
   ]
  },
  {
   "cell_type": "code",
   "execution_count": 21,
   "id": "4f3648ed-794a-4736-b94a-dcd123aed400",
   "metadata": {},
   "outputs": [
    {
     "data": {
      "text/html": [
       "<div>\n",
       "<style scoped>\n",
       "    .dataframe tbody tr th:only-of-type {\n",
       "        vertical-align: middle;\n",
       "    }\n",
       "\n",
       "    .dataframe tbody tr th {\n",
       "        vertical-align: top;\n",
       "    }\n",
       "\n",
       "    .dataframe thead th {\n",
       "        text-align: right;\n",
       "    }\n",
       "</style>\n",
       "<table border=\"1\" class=\"dataframe\">\n",
       "  <thead>\n",
       "    <tr style=\"text-align: right;\">\n",
       "      <th></th>\n",
       "      <th>Year</th>\n",
       "      <th>Country Name</th>\n",
       "      <th>Country Code</th>\n",
       "      <th>Value</th>\n",
       "    </tr>\n",
       "  </thead>\n",
       "  <tbody>\n",
       "    <tr>\n",
       "      <th>0</th>\n",
       "      <td>2016</td>\n",
       "      <td>Arab World</td>\n",
       "      <td>ARB</td>\n",
       "      <td>2.504703e+12</td>\n",
       "    </tr>\n",
       "    <tr>\n",
       "      <th>1</th>\n",
       "      <td>2016</td>\n",
       "      <td>Caribbean small states</td>\n",
       "      <td>CSS</td>\n",
       "      <td>6.670736e+10</td>\n",
       "    </tr>\n",
       "    <tr>\n",
       "      <th>2</th>\n",
       "      <td>2016</td>\n",
       "      <td>Central Europe and the Baltics</td>\n",
       "      <td>CEB</td>\n",
       "      <td>1.312158e+12</td>\n",
       "    </tr>\n",
       "    <tr>\n",
       "      <th>3</th>\n",
       "      <td>2016</td>\n",
       "      <td>Early-demographic dividend</td>\n",
       "      <td>EAR</td>\n",
       "      <td>1.040199e+13</td>\n",
       "    </tr>\n",
       "    <tr>\n",
       "      <th>4</th>\n",
       "      <td>2016</td>\n",
       "      <td>East Asia &amp; Pacific</td>\n",
       "      <td>EAS</td>\n",
       "      <td>2.248043e+13</td>\n",
       "    </tr>\n",
       "  </tbody>\n",
       "</table>\n",
       "</div>"
      ],
      "text/plain": [
       "   Year                    Country Name Country Code         Value\n",
       "0  2016                      Arab World          ARB  2.504703e+12\n",
       "1  2016          Caribbean small states          CSS  6.670736e+10\n",
       "2  2016  Central Europe and the Baltics          CEB  1.312158e+12\n",
       "3  2016      Early-demographic dividend          EAR  1.040199e+13\n",
       "4  2016             East Asia & Pacific          EAS  2.248043e+13"
      ]
     },
     "execution_count": 21,
     "metadata": {},
     "output_type": "execute_result"
    }
   ],
   "source": [
    "# taking first steps to be able to compare the different datasets by obtaining only the necessary dates from\n",
    "# the \"gdp_csv\" dataframe\n",
    "\n",
    "year_index_gdps = gdps.set_index('Year')\n",
    "most_recent_gdps = year_index_gdps.loc[2016]\n",
    "most_recent_gdps = most_recent_gdps.reset_index()\n",
    "most_recent_gdps.head()"
   ]
  },
  {
   "cell_type": "code",
   "execution_count": 24,
   "id": "b1ba3d9a-c18c-455d-930c-797d633c79dc",
   "metadata": {},
   "outputs": [
    {
     "data": {
      "text/html": [
       "<div>\n",
       "<style scoped>\n",
       "    .dataframe tbody tr th:only-of-type {\n",
       "        vertical-align: middle;\n",
       "    }\n",
       "\n",
       "    .dataframe tbody tr th {\n",
       "        vertical-align: top;\n",
       "    }\n",
       "\n",
       "    .dataframe thead th {\n",
       "        text-align: right;\n",
       "    }\n",
       "</style>\n",
       "<table border=\"1\" class=\"dataframe\">\n",
       "  <thead>\n",
       "    <tr style=\"text-align: right;\">\n",
       "      <th></th>\n",
       "      <th>Year</th>\n",
       "      <th>country</th>\n",
       "      <th>Country Code</th>\n",
       "      <th>Value</th>\n",
       "    </tr>\n",
       "  </thead>\n",
       "  <tbody>\n",
       "    <tr>\n",
       "      <th>0</th>\n",
       "      <td>2016</td>\n",
       "      <td>Arab World</td>\n",
       "      <td>ARB</td>\n",
       "      <td>2.504703e+12</td>\n",
       "    </tr>\n",
       "    <tr>\n",
       "      <th>1</th>\n",
       "      <td>2016</td>\n",
       "      <td>Caribbean small states</td>\n",
       "      <td>CSS</td>\n",
       "      <td>6.670736e+10</td>\n",
       "    </tr>\n",
       "    <tr>\n",
       "      <th>2</th>\n",
       "      <td>2016</td>\n",
       "      <td>Central Europe and the Baltics</td>\n",
       "      <td>CEB</td>\n",
       "      <td>1.312158e+12</td>\n",
       "    </tr>\n",
       "    <tr>\n",
       "      <th>3</th>\n",
       "      <td>2016</td>\n",
       "      <td>Early-demographic dividend</td>\n",
       "      <td>EAR</td>\n",
       "      <td>1.040199e+13</td>\n",
       "    </tr>\n",
       "    <tr>\n",
       "      <th>4</th>\n",
       "      <td>2016</td>\n",
       "      <td>East Asia &amp; Pacific</td>\n",
       "      <td>EAS</td>\n",
       "      <td>2.248043e+13</td>\n",
       "    </tr>\n",
       "  </tbody>\n",
       "</table>\n",
       "</div>"
      ],
      "text/plain": [
       "   Year                         country Country Code         Value\n",
       "0  2016                      Arab World          ARB  2.504703e+12\n",
       "1  2016          Caribbean small states          CSS  6.670736e+10\n",
       "2  2016  Central Europe and the Baltics          CEB  1.312158e+12\n",
       "3  2016      Early-demographic dividend          EAR  1.040199e+13\n",
       "4  2016             East Asia & Pacific          EAS  2.248043e+13"
      ]
     },
     "execution_count": 24,
     "metadata": {},
     "output_type": "execute_result"
    }
   ],
   "source": [
    "most_recent_gdps = most_recent_gdps.rename(columns={'Country Name':'country'})\n",
    "most_recent_gdps.head()"
   ]
  },
  {
   "cell_type": "code",
   "execution_count": 30,
   "id": "67d66fd5-2e6b-4f87-8024-e9a6ce0d1a16",
   "metadata": {},
   "outputs": [
    {
     "data": {
      "text/html": [
       "<div>\n",
       "<style scoped>\n",
       "    .dataframe tbody tr th:only-of-type {\n",
       "        vertical-align: middle;\n",
       "    }\n",
       "\n",
       "    .dataframe tbody tr th {\n",
       "        vertical-align: top;\n",
       "    }\n",
       "\n",
       "    .dataframe thead th {\n",
       "        text-align: right;\n",
       "    }\n",
       "</style>\n",
       "<table border=\"1\" class=\"dataframe\">\n",
       "  <thead>\n",
       "    <tr style=\"text-align: right;\">\n",
       "      <th></th>\n",
       "      <th>Year</th>\n",
       "      <th>country</th>\n",
       "      <th>Country Code</th>\n",
       "      <th>Value</th>\n",
       "      <th>num_billionaires</th>\n",
       "      <th>billionaire_per_million</th>\n",
       "    </tr>\n",
       "  </thead>\n",
       "  <tbody>\n",
       "    <tr>\n",
       "      <th>0</th>\n",
       "      <td>2016</td>\n",
       "      <td>World</td>\n",
       "      <td>WLD</td>\n",
       "      <td>7.584511e+13</td>\n",
       "      <td>2668</td>\n",
       "      <td>0.350</td>\n",
       "    </tr>\n",
       "    <tr>\n",
       "      <th>59</th>\n",
       "      <td>2016</td>\n",
       "      <td>United States</td>\n",
       "      <td>USA</td>\n",
       "      <td>1.862448e+13</td>\n",
       "      <td>735</td>\n",
       "      <td>1.853</td>\n",
       "    </tr>\n",
       "    <tr>\n",
       "      <th>29</th>\n",
       "      <td>2016</td>\n",
       "      <td>Japan</td>\n",
       "      <td>JPN</td>\n",
       "      <td>4.940159e+12</td>\n",
       "      <td>40</td>\n",
       "      <td>0.207</td>\n",
       "    </tr>\n",
       "    <tr>\n",
       "      <th>20</th>\n",
       "      <td>2016</td>\n",
       "      <td>Germany</td>\n",
       "      <td>DEU</td>\n",
       "      <td>3.477796e+12</td>\n",
       "      <td>134</td>\n",
       "      <td>1.553</td>\n",
       "    </tr>\n",
       "    <tr>\n",
       "      <th>58</th>\n",
       "      <td>2016</td>\n",
       "      <td>United Kingdom</td>\n",
       "      <td>GBR</td>\n",
       "      <td>2.647899e+12</td>\n",
       "      <td>49</td>\n",
       "      <td>0.674</td>\n",
       "    </tr>\n",
       "  </tbody>\n",
       "</table>\n",
       "</div>"
      ],
      "text/plain": [
       "    Year         country Country Code         Value  num_billionaires  \\\n",
       "0   2016           World          WLD  7.584511e+13              2668   \n",
       "59  2016   United States          USA  1.862448e+13               735   \n",
       "29  2016           Japan          JPN  4.940159e+12                40   \n",
       "20  2016         Germany          DEU  3.477796e+12               134   \n",
       "58  2016  United Kingdom          GBR  2.647899e+12                49   \n",
       "\n",
       "    billionaire_per_million  \n",
       "0                     0.350  \n",
       "59                    1.853  \n",
       "29                    0.207  \n",
       "20                    1.553  \n",
       "58                    0.674  "
      ]
     },
     "execution_count": 30,
     "metadata": {},
     "output_type": "execute_result"
    }
   ],
   "source": [
    "gdps_bill = most_recent_gdps.merge(country_stats, on='country').rename(columns={'num_billionares':'num_billionaires'})\n",
    "gdps_bill_bybpm = gdps_bill.sort_values(by='billionaire_per_million', ascending=False)\n",
    "gdps_bill_bygdp = gdps_bill.sort_values(by='Value', ascending=False)\n",
    "gdps_bill_bygdp.head()"
   ]
  },
  {
   "cell_type": "code",
   "execution_count": 35,
   "id": "a3c50405-8c12-48a0-9dd4-63b4ed23ce9e",
   "metadata": {},
   "outputs": [
    {
     "data": {
      "text/plain": [
       "<AxesSubplot:xlabel='Value', ylabel='num_billionaires'>"
      ]
     },
     "execution_count": 35,
     "metadata": {},
     "output_type": "execute_result"
    },
    {
     "data": {
      "image/png": "[encoded data removed]",
      "text/plain": [
       "<Figure size 432x288 with 1 Axes>"
      ]
     },
     "metadata": {
      "needs_background": "light"
     },
     "output_type": "display_data"
    }
   ],
   "source": [
    "sns.scatterplot(data=gdps_bill_bygdp[1:], x='Value', y='num_billionaires', size='billionaire_per_million')"
   ]
  },
  {
   "cell_type": "code",
   "execution_count": 48,
   "id": "c2fcf71f-0dc2-4c2b-b2eb-c9ac58f45623",
   "metadata": {},
   "outputs": [
    {
     "data": {
      "text/plain": [
       "(-2147483648, 2504702625568.63)"
      ]
     },
     "execution_count": 48,
     "metadata": {},
     "output_type": "execute_result"
    }
   ],
   "source": []
  },
  {
   "cell_type": "code",
   "execution_count": null,
   "id": "a34a0dba-f4cc-43f9-9b51-fb0d0dd54931",
   "metadata": {},
   "outputs": [],
   "source": []
  }
 ],
 "metadata": {
  "kernelspec": {
   "display_name": "Python 3 (ipykernel)",
   "language": "python",
   "name": "python3"
  },
  "language_info": {
   "codemirror_mode": {
    "name": "ipython",
    "version": 3
   },
   "file_extension": ".py",
   "mimetype": "text/x-python",
   "name": "python",
   "nbconvert_exporter": "python",
   "pygments_lexer": "ipython3",
   "version": "3.10.5"
  }
 },
 "nbformat": 4,
 "nbformat_minor": 5
}
